{
 "cells": [
  {
   "cell_type": "code",
   "execution_count": 18,
   "id": "48470598-8135-41f6-9008-715d63bc2665",
   "metadata": {},
   "outputs": [],
   "source": [
    "import requests,zipfile, io, os, csv\n",
    "import xml.etree.ElementTree as ET\n",
    "import pandas as pd\n",
    "import boto3"
   ]
  },
  {
   "cell_type": "code",
   "execution_count": 2,
   "id": "70f44542-7db5-4232-8a07-e1f0f0d7a2da",
   "metadata": {},
   "outputs": [],
   "source": [
    "file_path = './case_study1_link.xml'"
   ]
  },
  {
   "cell_type": "code",
   "execution_count": 3,
   "id": "4b6895c0-d86d-463e-8349-fd8fd661c219",
   "metadata": {},
   "outputs": [],
   "source": [
    "tree = ET.parse(file_path)"
   ]
  },
  {
   "cell_type": "code",
   "execution_count": 4,
   "id": "4fdbc683-a179-42c8-a16f-277bf233e175",
   "metadata": {},
   "outputs": [],
   "source": [
    "root = tree.getroot()"
   ]
  },
  {
   "cell_type": "code",
   "execution_count": 5,
   "id": "1f2376da-54c1-4044-bfce-8848136b22e7",
   "metadata": {},
   "outputs": [
    {
     "name": "stdout",
     "output_type": "stream",
     "text": [
      "200 http://firds.esma.europa.eu/firds/FULINS_C_20171118_01of01.zip FULINS\n"
     ]
    }
   ],
   "source": [
    "for item in root.iter('doc'):\n",
    "    dict_attributes = {}\n",
    "    for child in item.iter('str'):\n",
    "        dict_attributes[child.attrib['name']] = child.text\n",
    "    if dict_attributes['file_type'] == 'FULINS':\n",
    "        response = requests.get(dict_attributes['download_link'])\n",
    "        print(response.status_code, dict_attributes['download_link'], dict_attributes['file_type'])\n",
    "        zipFile = zipfile.ZipFile(io.BytesIO(response.content))\n",
    "        zipFile.extractall(\"./downloaded_xml\")\n",
    "    break"
   ]
  },
  {
   "cell_type": "code",
   "execution_count": 6,
   "id": "9fac0064-09db-4791-9037-1881e8ff24c9",
   "metadata": {},
   "outputs": [],
   "source": [
    "for file in os.listdir(\"./downloaded_xml\"):\n",
    "    if 'xml' in file:\n",
    "        xml_file_path = \"./downloaded_xml/\"+file\n",
    "        tree1 = ET.parse(xml_file_path)"
   ]
  },
  {
   "cell_type": "code",
   "execution_count": 7,
   "id": "ce98e7a4-cb7f-48e7-943b-c295f6872388",
   "metadata": {},
   "outputs": [],
   "source": [
    "root1 = tree1.getroot()\n",
    "# root1.tag"
   ]
  },
  {
   "cell_type": "code",
   "execution_count": 8,
   "id": "47b52454-b21c-4d3d-a550-d01276a6b7a0",
   "metadata": {},
   "outputs": [],
   "source": [
    "my_namespaces = dict([node for _, node in ET.iterparse(xml_file_path, events = ['start-ns'])])"
   ]
  },
  {
   "cell_type": "code",
   "execution_count": 9,
   "id": "20a89515-da0c-48c4-896d-5c58600c0ae9",
   "metadata": {},
   "outputs": [
    {
     "name": "stdout",
     "output_type": "stream",
     "text": [
      "{'': 'urn:iso:std:iso:20022:tech:xsd:DRAFT13auth.017.001.01', 'xsi': 'http://www.w3.org/2001/XMLSchema-instance'}\n"
     ]
    }
   ],
   "source": [
    "print(my_namespaces)"
   ]
  },
  {
   "cell_type": "code",
   "execution_count": 10,
   "id": "a010cde4-5f6a-4668-9519-340665aaa447",
   "metadata": {},
   "outputs": [],
   "source": [
    "with open('Out.csv', 'w', newline='', encoding='utf-8') as csv_file:\n",
    "    csvwriter = csv.writer(csv_file)\n",
    "    col_names = ['FinInstrmGnlAttrbts.Id','FinInstrmGnlAttrbts.FullNm','FinInstrmGnlAttrbts.ClssfctnTp','FinInstrmGnlAttrbts.CmmdtyDerivInd',\n",
    "             'FinInstrmGnlAttrbts.NtnlCcy','Issr']\n",
    "    csvwriter.writerow(col_names)\n",
    "\n",
    "    for item in root1.iterfind('.//RefData',my_namespaces):\n",
    "        event = []\n",
    "        event.append(item.find('./FinInstrmGnlAttrbts/Id',my_namespaces).text)\n",
    "        event.append(item.find('./FinInstrmGnlAttrbts/FullNm',my_namespaces).text)\n",
    "        event.append(item.find('./FinInstrmGnlAttrbts/ClssfctnTp',my_namespaces).text)\n",
    "        event.append(item.find('./FinInstrmGnlAttrbts/CmmdtyDerivInd',my_namespaces).text)\n",
    "        event.append(item.find('./FinInstrmGnlAttrbts/NtnlCcy',my_namespaces).text)\n",
    "        event.append(item.find('./Issr',my_namespaces).text)\n",
    "        csvwriter.writerow(event)\n",
    "        # print(item.find('Issr',my_namespaces).text,item.find('./FinInstrmGnlAttrbts/Id',my_namespaces).text,item.find('./Issr',my_namespaces).text)"
   ]
  },
  {
   "cell_type": "code",
   "execution_count": 11,
   "id": "3802e870-128a-4eed-b170-f1705f633d10",
   "metadata": {},
   "outputs": [],
   "source": [
    "df = pd.read_csv('Out.csv')"
   ]
  },
  {
   "cell_type": "code",
   "execution_count": 12,
   "id": "ccc89088-e49d-4cf2-a0ff-d997bf90e890",
   "metadata": {},
   "outputs": [
    {
     "data": {
      "text/plain": [
       "(57004, 6)"
      ]
     },
     "execution_count": 12,
     "metadata": {},
     "output_type": "execute_result"
    }
   ],
   "source": [
    "df.shape"
   ]
  },
  {
   "cell_type": "code",
   "execution_count": 13,
   "id": "c8172bbd-3924-407c-9b59-f02668be304d",
   "metadata": {},
   "outputs": [
    {
     "data": {
      "text/html": [
       "<div>\n",
       "<style scoped>\n",
       "    .dataframe tbody tr th:only-of-type {\n",
       "        vertical-align: middle;\n",
       "    }\n",
       "\n",
       "    .dataframe tbody tr th {\n",
       "        vertical-align: top;\n",
       "    }\n",
       "\n",
       "    .dataframe thead th {\n",
       "        text-align: right;\n",
       "    }\n",
       "</style>\n",
       "<table border=\"1\" class=\"dataframe\">\n",
       "  <thead>\n",
       "    <tr style=\"text-align: right;\">\n",
       "      <th></th>\n",
       "      <th>FinInstrmGnlAttrbts.Id</th>\n",
       "      <th>FinInstrmGnlAttrbts.FullNm</th>\n",
       "      <th>FinInstrmGnlAttrbts.ClssfctnTp</th>\n",
       "      <th>FinInstrmGnlAttrbts.CmmdtyDerivInd</th>\n",
       "      <th>FinInstrmGnlAttrbts.NtnlCcy</th>\n",
       "      <th>Issr</th>\n",
       "    </tr>\n",
       "  </thead>\n",
       "  <tbody>\n",
       "    <tr>\n",
       "      <th>0</th>\n",
       "      <td>KYG936361016</td>\n",
       "      <td>VinaLand Ltd.                 Registered Share...</td>\n",
       "      <td>CBCGXS</td>\n",
       "      <td>False</td>\n",
       "      <td>USD</td>\n",
       "      <td>391200OUOEWDQSEJ0Y74</td>\n",
       "    </tr>\n",
       "    <tr>\n",
       "      <th>1</th>\n",
       "      <td>KYG936361016</td>\n",
       "      <td>VinaLand Ltd.                 Registered Share...</td>\n",
       "      <td>CBCGXS</td>\n",
       "      <td>False</td>\n",
       "      <td>USD</td>\n",
       "      <td>391200OUOEWDQSEJ0Y74</td>\n",
       "    </tr>\n",
       "    <tr>\n",
       "      <th>2</th>\n",
       "      <td>KYG936361016</td>\n",
       "      <td>VINALAND LTD DL-,01</td>\n",
       "      <td>CBCGXS</td>\n",
       "      <td>False</td>\n",
       "      <td>USD</td>\n",
       "      <td>391200OUOEWDQSEJ0Y74</td>\n",
       "    </tr>\n",
       "    <tr>\n",
       "      <th>3</th>\n",
       "      <td>AU000000CQR9</td>\n",
       "      <td>Charter Hall Retail REIT      Registered Units...</td>\n",
       "      <td>CBCIXS</td>\n",
       "      <td>False</td>\n",
       "      <td>AUD</td>\n",
       "      <td>391200I7OS301UELZA68</td>\n",
       "    </tr>\n",
       "    <tr>\n",
       "      <th>4</th>\n",
       "      <td>AU000000SGP0</td>\n",
       "      <td>Stockland Reg. Stapled Secs o.N.</td>\n",
       "      <td>CBCIXS</td>\n",
       "      <td>False</td>\n",
       "      <td>AUD</td>\n",
       "      <td>391200OUOEWDQSEJ0Y74</td>\n",
       "    </tr>\n",
       "  </tbody>\n",
       "</table>\n",
       "</div>"
      ],
      "text/plain": [
       "  FinInstrmGnlAttrbts.Id                         FinInstrmGnlAttrbts.FullNm  \\\n",
       "0           KYG936361016  VinaLand Ltd.                 Registered Share...   \n",
       "1           KYG936361016  VinaLand Ltd.                 Registered Share...   \n",
       "2           KYG936361016                                VINALAND LTD DL-,01   \n",
       "3           AU000000CQR9  Charter Hall Retail REIT      Registered Units...   \n",
       "4           AU000000SGP0                   Stockland Reg. Stapled Secs o.N.   \n",
       "\n",
       "  FinInstrmGnlAttrbts.ClssfctnTp  FinInstrmGnlAttrbts.CmmdtyDerivInd  \\\n",
       "0                         CBCGXS                               False   \n",
       "1                         CBCGXS                               False   \n",
       "2                         CBCGXS                               False   \n",
       "3                         CBCIXS                               False   \n",
       "4                         CBCIXS                               False   \n",
       "\n",
       "  FinInstrmGnlAttrbts.NtnlCcy                  Issr  \n",
       "0                         USD  391200OUOEWDQSEJ0Y74  \n",
       "1                         USD  391200OUOEWDQSEJ0Y74  \n",
       "2                         USD  391200OUOEWDQSEJ0Y74  \n",
       "3                         AUD  391200I7OS301UELZA68  \n",
       "4                         AUD  391200OUOEWDQSEJ0Y74  "
      ]
     },
     "execution_count": 13,
     "metadata": {},
     "output_type": "execute_result"
    }
   ],
   "source": [
    "df.head()"
   ]
  },
  {
   "cell_type": "code",
   "execution_count": 16,
   "id": "65b024b4-91ff-4f9c-9079-c3f38e978611",
   "metadata": {},
   "outputs": [],
   "source": [
    "s3 = boto3.resource(\n",
    "    's3',\n",
    "    aws_access_key_id='YOUR_ACCESS_KEY',\n",
    "    aws_secret_access_key='YOUR_SECRET_KEY'\n",
    ")\n",
    "# Set up S3 bucket and file name\n",
    "bucket_name = 'your-bucket-name'\n",
    "file_name = 'your-file-name.csv'\n",
    "# Set up CSV data\n",
    "with open('Out.csv','rb') as file:\n",
    "    data = file\n",
    "# Write CSV file to S3\n",
    "s3.Object(bucket_name, file_name).put(Body=data)"
   ]
  },
  {
   "cell_type": "code",
   "execution_count": null,
   "id": "4e2c7b79-5a92-4e1c-a7b9-bc14c84a88c4",
   "metadata": {},
   "outputs": [],
   "source": []
  }
 ],
 "metadata": {
  "kernelspec": {
   "display_name": "Python 3 (ipykernel)",
   "language": "python",
   "name": "python3"
  },
  "language_info": {
   "codemirror_mode": {
    "name": "ipython",
    "version": 3
   },
   "file_extension": ".py",
   "mimetype": "text/x-python",
   "name": "python",
   "nbconvert_exporter": "python",
   "pygments_lexer": "ipython3",
   "version": "3.11.3"
  }
 },
 "nbformat": 4,
 "nbformat_minor": 5
}
