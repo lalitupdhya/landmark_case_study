{
 "cells": [
  {
   "cell_type": "code",
   "execution_count": null,
   "id": "9c6d10f8-0cb2-470c-84ce-4485d6e89ed5",
   "metadata": {},
   "outputs": [],
   "source": [
    "import pandas as pd\n",
    "from collections import defaultdict\n",
    "\n",
    "def recursive_parser(entry: dict, data_dict: dict, col_name: str = \"\") -> dict:\n",
    "    \"\"\"Recursive parser for an array of nested JSON objects\n",
    "    \n",
    "    Args:\n",
    "        entry (dict): A dictionary representing a single entry (row) of the final data frame.\n",
    "        data_dict (dict): Accumulator holding the current parsed data.\n",
    "        col_name (str): Accumulator holding the current column name. Defaults to empty string.\n",
    "    \"\"\"\n",
    "    for key, val in entry.items():\n",
    "        extended_col_name = f\"{col_name}_{key}\" if col_name else key\n",
    "        if isinstance(val, dict):\n",
    "            recursive_parser(entry[key], data_dict, extended_col_name)\n",
    "        else:\n",
    "            data_dict[extended_col_name].append(val)\n",
    "\n",
    "parsed_data = defaultdict(list)\n",
    "\n",
    "for entry in entries:\n",
    "    recursive_parser(entry, parsed_data, \"\")\n",
    "\n",
    "df = pd.DataFrame(parsed_data)"
   ]
  }
 ],
 "metadata": {
  "kernelspec": {
   "display_name": "Python 3 (ipykernel)",
   "language": "python",
   "name": "python3"
  },
  "language_info": {
   "codemirror_mode": {
    "name": "ipython",
    "version": 3
   },
   "file_extension": ".py",
   "mimetype": "text/x-python",
   "name": "python",
   "nbconvert_exporter": "python",
   "pygments_lexer": "ipython3",
   "version": "3.11.3"
  }
 },
 "nbformat": 4,
 "nbformat_minor": 5
}
