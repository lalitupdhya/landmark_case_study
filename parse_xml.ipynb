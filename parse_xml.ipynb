{
 "cells": [
  {
   "cell_type": "code",
   "execution_count": 1,
   "id": "48470598-8135-41f6-9008-715d63bc2665",
   "metadata": {},
   "outputs": [],
   "source": [
    "#importing libraries\n",
    "import requests,zipfile, io, os, csv\n",
    "import xml.etree.ElementTree as ET\n",
    "from datetime import datetime\n",
    "import pandas as pd\n",
    "import boto3"
   ]
  },
  {
   "cell_type": "code",
   "execution_count": 2,
   "id": "3ff68025-3dd2-4e84-bfc7-ba6445169e0a",
   "metadata": {},
   "outputs": [],
   "source": [
    "today = str(datetime.today().date())"
   ]
  },
  {
   "cell_type": "code",
   "execution_count": 4,
   "id": "aa5876f7-1063-4da3-83af-b99a7b8301df",
   "metadata": {},
   "outputs": [],
   "source": [
    "#opening log file\n",
    "log = open(f'./log/log-{today}.txt','a+')"
   ]
  },
  {
   "cell_type": "code",
   "execution_count": 5,
   "id": "70f44542-7db5-4232-8a07-e1f0f0d7a2da",
   "metadata": {},
   "outputs": [],
   "source": [
    "file_path = './case_study1_link.xml'"
   ]
  },
  {
   "cell_type": "code",
   "execution_count": 6,
   "id": "4b6895c0-d86d-463e-8349-fd8fd661c219",
   "metadata": {},
   "outputs": [],
   "source": [
    "tree = ET.parse(file_path)"
   ]
  },
  {
   "cell_type": "code",
   "execution_count": 7,
   "id": "4fdbc683-a179-42c8-a16f-277bf233e175",
   "metadata": {},
   "outputs": [],
   "source": [
    "root = tree.getroot()"
   ]
  },
  {
   "cell_type": "code",
   "execution_count": 8,
   "id": "1f2376da-54c1-4044-bfce-8848136b22e7",
   "metadata": {},
   "outputs": [],
   "source": [
    "# downloaded first link for the file type FULINS\n",
    "for item in root.iter('doc'):\n",
    "    dict_attributes = {}\n",
    "    for child in item.iter('str'):\n",
    "        dict_attributes[child.attrib['name']] = child.text\n",
    "    if dict_attributes['file_type'] == 'FULINS':\n",
    "        response = requests.get(dict_attributes['download_link'])\n",
    "        log.write(f'The response status code is {str(response.status_code)}\\n')\n",
    "        log.write(f\"The download link is {str(dict_attributes['download_link'])}\\n\")\n",
    "        log.write(f\"The file type for the link is {str(dict_attributes['file_type'])}\\n\")\n",
    "        zipFile = zipfile.ZipFile(io.BytesIO(response.content))\n",
    "        zipFile.extractall(\"./downloaded_xml\")\n",
    "    break"
   ]
  },
  {
   "cell_type": "code",
   "execution_count": 9,
   "id": "9fac0064-09db-4791-9037-1881e8ff24c9",
   "metadata": {},
   "outputs": [],
   "source": [
    "for file in os.listdir(\"./downloaded_xml\"):\n",
    "    if 'xml' in file:\n",
    "        xml_file_path = \"./downloaded_xml/\"+file\n",
    "        tree1 = ET.parse(xml_file_path)"
   ]
  },
  {
   "cell_type": "code",
   "execution_count": 10,
   "id": "ce98e7a4-cb7f-48e7-943b-c295f6872388",
   "metadata": {},
   "outputs": [],
   "source": [
    "root1 = tree1.getroot()\n",
    "# root1.tag"
   ]
  },
  {
   "cell_type": "code",
   "execution_count": 11,
   "id": "47b52454-b21c-4d3d-a550-d01276a6b7a0",
   "metadata": {},
   "outputs": [],
   "source": [
    "#acquiring namespace\n",
    "my_namespaces = dict([node for _, node in ET.iterparse(xml_file_path, events = ['start-ns'])])"
   ]
  },
  {
   "cell_type": "code",
   "execution_count": 12,
   "id": "20a89515-da0c-48c4-896d-5c58600c0ae9",
   "metadata": {},
   "outputs": [
    {
     "data": {
      "text/plain": [
       "131"
      ]
     },
     "execution_count": 12,
     "metadata": {},
     "output_type": "execute_result"
    }
   ],
   "source": [
    "log.write(f'The namespace is {my_namespaces}\\n')"
   ]
  },
  {
   "cell_type": "code",
   "execution_count": 13,
   "id": "a010cde4-5f6a-4668-9519-340665aaa447",
   "metadata": {},
   "outputs": [],
   "source": [
    "#parsing the downloaded xml to get the required attributes\n",
    "\n",
    "with open('Out.csv', 'w', newline='', encoding='utf-8') as csv_file:\n",
    "    csvwriter = csv.writer(csv_file)\n",
    "    col_names = ['FinInstrmGnlAttrbts.Id','FinInstrmGnlAttrbts.FullNm','FinInstrmGnlAttrbts.ClssfctnTp','FinInstrmGnlAttrbts.CmmdtyDerivInd',\n",
    "             'FinInstrmGnlAttrbts.NtnlCcy','Issr']\n",
    "    csvwriter.writerow(col_names)\n",
    "\n",
    "    for item in root1.iterfind('.//RefData',my_namespaces):\n",
    "        event = []\n",
    "        event.append(item.find('./FinInstrmGnlAttrbts/Id',my_namespaces).text)\n",
    "        event.append(item.find('./FinInstrmGnlAttrbts/FullNm',my_namespaces).text)\n",
    "        event.append(item.find('./FinInstrmGnlAttrbts/ClssfctnTp',my_namespaces).text)\n",
    "        event.append(item.find('./FinInstrmGnlAttrbts/CmmdtyDerivInd',my_namespaces).text)\n",
    "        event.append(item.find('./FinInstrmGnlAttrbts/NtnlCcy',my_namespaces).text)\n",
    "        event.append(item.find('./Issr',my_namespaces).text)\n",
    "        csvwriter.writerow(event)\n",
    "        # print(item.find('Issr',my_namespaces).text,item.find('./FinInstrmGnlAttrbts/Id',my_namespaces).text,item.find('./Issr',my_namespaces).text)"
   ]
  },
  {
   "cell_type": "code",
   "execution_count": 14,
   "id": "3802e870-128a-4eed-b170-f1705f633d10",
   "metadata": {},
   "outputs": [],
   "source": [
    "df = pd.read_csv('Out.csv')"
   ]
  },
  {
   "cell_type": "code",
   "execution_count": 15,
   "id": "ccc89088-e49d-4cf2-a0ff-d997bf90e890",
   "metadata": {},
   "outputs": [
    {
     "data": {
      "text/plain": [
       "25"
      ]
     },
     "execution_count": 15,
     "metadata": {},
     "output_type": "execute_result"
    }
   ],
   "source": [
    "log.write(f'Rows extracted are {df.shape[0]}\\n')"
   ]
  },
  {
   "cell_type": "code",
   "execution_count": 16,
   "id": "65b024b4-91ff-4f9c-9079-c3f38e978611",
   "metadata": {},
   "outputs": [],
   "source": [
    "# dump the csv to the s3 bucket\n",
    "s3 = boto3.resource(\n",
    "    's3',\n",
    "    aws_access_key_id='YOUR_ACCESS_KEY',\n",
    "    aws_secret_access_key='YOUR_SECRET_KEY'\n",
    ")\n",
    "# Set up S3 bucket and file name\n",
    "bucket_name = 'your-bucket-name'\n",
    "file_name = 'your-file-name.csv'\n",
    "# Set up CSV data\n",
    "with open('Out.csv','rb') as file:\n",
    "    data = file\n",
    "# Write CSV file to S3\n",
    "s3.Object(bucket_name, file_name).put(Body=data)"
   ]
  },
  {
   "cell_type": "code",
   "execution_count": 16,
   "id": "4e2c7b79-5a92-4e1c-a7b9-bc14c84a88c4",
   "metadata": {},
   "outputs": [],
   "source": [
    "log.write(f'*****************************\\n\\n')\n",
    "log.close()"
   ]
  }
 ],
 "metadata": {
  "kernelspec": {
   "display_name": "Python 3 (ipykernel)",
   "language": "python",
   "name": "python3"
  },
  "language_info": {
   "codemirror_mode": {
    "name": "ipython",
    "version": 3
   },
   "file_extension": ".py",
   "mimetype": "text/x-python",
   "name": "python",
   "nbconvert_exporter": "python",
   "pygments_lexer": "ipython3",
   "version": "3.11.3"
  }
 },
 "nbformat": 4,
 "nbformat_minor": 5
}
